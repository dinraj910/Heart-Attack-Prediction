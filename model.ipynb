{
 "cells": [
  {
   "cell_type": "markdown",
   "id": "8d6e34a6",
   "metadata": {},
   "source": [
    "Import"
   ]
  },
  {
   "cell_type": "code",
   "execution_count": 2,
   "id": "3452d55d",
   "metadata": {},
   "outputs": [],
   "source": [
    "import pandas as pd\n",
    "import numpy as np\n",
    "import matplotlib.pyplot as plt\n",
    "import seaborn as sns\n",
    "\n",
    "from sklearn.model_selection import train_test_split\n",
    "from sklearn.preprocessing import OneHotEncoder, StandardScaler\n",
    "from sklearn.impute import SimpleImputer\n",
    "from sklearn.compose import ColumnTransformer\n",
    "from sklearn.pipeline import Pipeline\n",
    "from sklearn.linear_model import LogisticRegression\n",
    "from sklearn.ensemble import RandomForestClassifier\n",
    "from xgboost import XGBClassifier\n",
    "from sklearn.metrics import classification_report, confusion_matrix, roc_auc_score, roc_curve\n",
    "import joblib\n",
    "\n"
   ]
  },
  {
   "cell_type": "code",
   "execution_count": 3,
   "id": "68d623e0",
   "metadata": {},
   "outputs": [
    {
     "data": {
      "text/html": [
       "<div>\n",
       "<style scoped>\n",
       "    .dataframe tbody tr th:only-of-type {\n",
       "        vertical-align: middle;\n",
       "    }\n",
       "\n",
       "    .dataframe tbody tr th {\n",
       "        vertical-align: top;\n",
       "    }\n",
       "\n",
       "    .dataframe thead th {\n",
       "        text-align: right;\n",
       "    }\n",
       "</style>\n",
       "<table border=\"1\" class=\"dataframe\">\n",
       "  <thead>\n",
       "    <tr style=\"text-align: right;\">\n",
       "      <th></th>\n",
       "      <th>Patient_ID</th>\n",
       "      <th>State_Name</th>\n",
       "      <th>Age</th>\n",
       "      <th>Gender</th>\n",
       "      <th>Diabetes</th>\n",
       "      <th>Hypertension</th>\n",
       "      <th>Obesity</th>\n",
       "      <th>Smoking</th>\n",
       "      <th>Alcohol_Consumption</th>\n",
       "      <th>Physical_Activity</th>\n",
       "      <th>...</th>\n",
       "      <th>Diastolic_BP</th>\n",
       "      <th>Air_Pollution_Exposure</th>\n",
       "      <th>Family_History</th>\n",
       "      <th>Stress_Level</th>\n",
       "      <th>Healthcare_Access</th>\n",
       "      <th>Heart_Attack_History</th>\n",
       "      <th>Emergency_Response_Time</th>\n",
       "      <th>Annual_Income</th>\n",
       "      <th>Health_Insurance</th>\n",
       "      <th>Heart_Attack_Risk</th>\n",
       "    </tr>\n",
       "  </thead>\n",
       "  <tbody>\n",
       "    <tr>\n",
       "      <th>0</th>\n",
       "      <td>1</td>\n",
       "      <td>Rajasthan</td>\n",
       "      <td>42</td>\n",
       "      <td>Female</td>\n",
       "      <td>0</td>\n",
       "      <td>0</td>\n",
       "      <td>1</td>\n",
       "      <td>1</td>\n",
       "      <td>0</td>\n",
       "      <td>0</td>\n",
       "      <td>...</td>\n",
       "      <td>119</td>\n",
       "      <td>1</td>\n",
       "      <td>0</td>\n",
       "      <td>4</td>\n",
       "      <td>0</td>\n",
       "      <td>0</td>\n",
       "      <td>157</td>\n",
       "      <td>611025</td>\n",
       "      <td>0</td>\n",
       "      <td>0</td>\n",
       "    </tr>\n",
       "    <tr>\n",
       "      <th>1</th>\n",
       "      <td>2</td>\n",
       "      <td>Himachal Pradesh</td>\n",
       "      <td>26</td>\n",
       "      <td>Male</td>\n",
       "      <td>0</td>\n",
       "      <td>0</td>\n",
       "      <td>0</td>\n",
       "      <td>0</td>\n",
       "      <td>1</td>\n",
       "      <td>1</td>\n",
       "      <td>...</td>\n",
       "      <td>115</td>\n",
       "      <td>0</td>\n",
       "      <td>0</td>\n",
       "      <td>7</td>\n",
       "      <td>0</td>\n",
       "      <td>0</td>\n",
       "      <td>331</td>\n",
       "      <td>174527</td>\n",
       "      <td>0</td>\n",
       "      <td>0</td>\n",
       "    </tr>\n",
       "    <tr>\n",
       "      <th>2</th>\n",
       "      <td>3</td>\n",
       "      <td>Assam</td>\n",
       "      <td>78</td>\n",
       "      <td>Male</td>\n",
       "      <td>0</td>\n",
       "      <td>0</td>\n",
       "      <td>1</td>\n",
       "      <td>0</td>\n",
       "      <td>0</td>\n",
       "      <td>1</td>\n",
       "      <td>...</td>\n",
       "      <td>117</td>\n",
       "      <td>0</td>\n",
       "      <td>1</td>\n",
       "      <td>10</td>\n",
       "      <td>1</td>\n",
       "      <td>0</td>\n",
       "      <td>186</td>\n",
       "      <td>1760112</td>\n",
       "      <td>1</td>\n",
       "      <td>0</td>\n",
       "    </tr>\n",
       "    <tr>\n",
       "      <th>3</th>\n",
       "      <td>4</td>\n",
       "      <td>Odisha</td>\n",
       "      <td>58</td>\n",
       "      <td>Male</td>\n",
       "      <td>1</td>\n",
       "      <td>0</td>\n",
       "      <td>1</td>\n",
       "      <td>0</td>\n",
       "      <td>0</td>\n",
       "      <td>1</td>\n",
       "      <td>...</td>\n",
       "      <td>65</td>\n",
       "      <td>0</td>\n",
       "      <td>0</td>\n",
       "      <td>1</td>\n",
       "      <td>1</td>\n",
       "      <td>1</td>\n",
       "      <td>324</td>\n",
       "      <td>1398213</td>\n",
       "      <td>0</td>\n",
       "      <td>0</td>\n",
       "    </tr>\n",
       "    <tr>\n",
       "      <th>4</th>\n",
       "      <td>5</td>\n",
       "      <td>Karnataka</td>\n",
       "      <td>22</td>\n",
       "      <td>Male</td>\n",
       "      <td>0</td>\n",
       "      <td>0</td>\n",
       "      <td>0</td>\n",
       "      <td>0</td>\n",
       "      <td>0</td>\n",
       "      <td>1</td>\n",
       "      <td>...</td>\n",
       "      <td>109</td>\n",
       "      <td>0</td>\n",
       "      <td>0</td>\n",
       "      <td>9</td>\n",
       "      <td>0</td>\n",
       "      <td>0</td>\n",
       "      <td>209</td>\n",
       "      <td>97987</td>\n",
       "      <td>0</td>\n",
       "      <td>1</td>\n",
       "    </tr>\n",
       "  </tbody>\n",
       "</table>\n",
       "<p>5 rows × 26 columns</p>\n",
       "</div>"
      ],
      "text/plain": [
       "   Patient_ID        State_Name  Age  Gender  Diabetes  Hypertension  Obesity  \\\n",
       "0           1         Rajasthan   42  Female         0             0        1   \n",
       "1           2  Himachal Pradesh   26    Male         0             0        0   \n",
       "2           3             Assam   78    Male         0             0        1   \n",
       "3           4            Odisha   58    Male         1             0        1   \n",
       "4           5         Karnataka   22    Male         0             0        0   \n",
       "\n",
       "   Smoking  Alcohol_Consumption  Physical_Activity  ...  Diastolic_BP  \\\n",
       "0        1                    0                  0  ...           119   \n",
       "1        0                    1                  1  ...           115   \n",
       "2        0                    0                  1  ...           117   \n",
       "3        0                    0                  1  ...            65   \n",
       "4        0                    0                  1  ...           109   \n",
       "\n",
       "   Air_Pollution_Exposure  Family_History  Stress_Level  Healthcare_Access  \\\n",
       "0                       1               0             4                  0   \n",
       "1                       0               0             7                  0   \n",
       "2                       0               1            10                  1   \n",
       "3                       0               0             1                  1   \n",
       "4                       0               0             9                  0   \n",
       "\n",
       "   Heart_Attack_History  Emergency_Response_Time  Annual_Income  \\\n",
       "0                     0                      157         611025   \n",
       "1                     0                      331         174527   \n",
       "2                     0                      186        1760112   \n",
       "3                     1                      324        1398213   \n",
       "4                     0                      209          97987   \n",
       "\n",
       "   Health_Insurance  Heart_Attack_Risk  \n",
       "0                 0                  0  \n",
       "1                 0                  0  \n",
       "2                 1                  0  \n",
       "3                 0                  0  \n",
       "4                 0                  1  \n",
       "\n",
       "[5 rows x 26 columns]"
      ]
     },
     "execution_count": 3,
     "metadata": {},
     "output_type": "execute_result"
    }
   ],
   "source": [
    "# Load dataset\n",
    "df = pd.read_csv('heart.csv')\n",
    "df.head()"
   ]
  },
  {
   "cell_type": "code",
   "execution_count": 4,
   "id": "4bec113e",
   "metadata": {},
   "outputs": [
    {
     "data": {
      "text/plain": [
       "(10000, 26)"
      ]
     },
     "execution_count": 4,
     "metadata": {},
     "output_type": "execute_result"
    }
   ],
   "source": [
    "df.shape"
   ]
  },
  {
   "cell_type": "code",
   "execution_count": 5,
   "id": "a91bfb25",
   "metadata": {},
   "outputs": [
    {
     "name": "stdout",
     "output_type": "stream",
     "text": [
      "<class 'pandas.core.frame.DataFrame'>\n",
      "RangeIndex: 10000 entries, 0 to 9999\n",
      "Data columns (total 26 columns):\n",
      " #   Column                   Non-Null Count  Dtype \n",
      "---  ------                   --------------  ----- \n",
      " 0   Patient_ID               10000 non-null  int64 \n",
      " 1   State_Name               10000 non-null  object\n",
      " 2   Age                      10000 non-null  int64 \n",
      " 3   Gender                   10000 non-null  object\n",
      " 4   Diabetes                 10000 non-null  int64 \n",
      " 5   Hypertension             10000 non-null  int64 \n",
      " 6   Obesity                  10000 non-null  int64 \n",
      " 7   Smoking                  10000 non-null  int64 \n",
      " 8   Alcohol_Consumption      10000 non-null  int64 \n",
      " 9   Physical_Activity        10000 non-null  int64 \n",
      " 10  Diet_Score               10000 non-null  int64 \n",
      " 11  Cholesterol_Level        10000 non-null  int64 \n",
      " 12  Triglyceride_Level       10000 non-null  int64 \n",
      " 13  LDL_Level                10000 non-null  int64 \n",
      " 14  HDL_Level                10000 non-null  int64 \n",
      " 15  Systolic_BP              10000 non-null  int64 \n",
      " 16  Diastolic_BP             10000 non-null  int64 \n",
      " 17  Air_Pollution_Exposure   10000 non-null  int64 \n",
      " 18  Family_History           10000 non-null  int64 \n",
      " 19  Stress_Level             10000 non-null  int64 \n",
      " 20  Healthcare_Access        10000 non-null  int64 \n",
      " 21  Heart_Attack_History     10000 non-null  int64 \n",
      " 22  Emergency_Response_Time  10000 non-null  int64 \n",
      " 23  Annual_Income            10000 non-null  int64 \n",
      " 24  Health_Insurance         10000 non-null  int64 \n",
      " 25  Heart_Attack_Risk        10000 non-null  int64 \n",
      "dtypes: int64(24), object(2)\n",
      "memory usage: 2.0+ MB\n"
     ]
    }
   ],
   "source": [
    "df.info()"
   ]
  },
  {
   "cell_type": "code",
   "execution_count": 6,
   "id": "8c66a259",
   "metadata": {},
   "outputs": [
    {
     "name": "stdout",
     "output_type": "stream",
     "text": [
      "Patient_ID                 0\n",
      "State_Name                 0\n",
      "Age                        0\n",
      "Gender                     0\n",
      "Diabetes                   0\n",
      "Hypertension               0\n",
      "Obesity                    0\n",
      "Smoking                    0\n",
      "Alcohol_Consumption        0\n",
      "Physical_Activity          0\n",
      "Diet_Score                 0\n",
      "Cholesterol_Level          0\n",
      "Triglyceride_Level         0\n",
      "LDL_Level                  0\n",
      "HDL_Level                  0\n",
      "Systolic_BP                0\n",
      "Diastolic_BP               0\n",
      "Air_Pollution_Exposure     0\n",
      "Family_History             0\n",
      "Stress_Level               0\n",
      "Healthcare_Access          0\n",
      "Heart_Attack_History       0\n",
      "Emergency_Response_Time    0\n",
      "Annual_Income              0\n",
      "Health_Insurance           0\n",
      "Heart_Attack_Risk          0\n",
      "dtype: int64\n"
     ]
    }
   ],
   "source": [
    "print(df.isna().sum())"
   ]
  },
  {
   "cell_type": "code",
   "execution_count": 7,
   "id": "068dde2d",
   "metadata": {},
   "outputs": [
    {
     "name": "stdout",
     "output_type": "stream",
     "text": [
      "Heart_Attack_Risk\n",
      "0    6993\n",
      "1    3007\n",
      "Name: count, dtype: int64\n"
     ]
    }
   ],
   "source": [
    "print(df['Heart_Attack_Risk'].value_counts()) "
   ]
  },
  {
   "cell_type": "code",
   "execution_count": 8,
   "id": "28fc4ccb",
   "metadata": {},
   "outputs": [],
   "source": [
    "X = df.drop(columns=['Heart_Attack_Risk'])\n",
    "y = df['Heart_Attack_Risk']"
   ]
  },
  {
   "cell_type": "code",
   "execution_count": 9,
   "id": "a4070939",
   "metadata": {},
   "outputs": [
    {
     "data": {
      "text/plain": [
       "((10000, 25), (10000,))"
      ]
     },
     "execution_count": 9,
     "metadata": {},
     "output_type": "execute_result"
    }
   ],
   "source": [
    "X.shape, y.shape"
   ]
  },
  {
   "cell_type": "code",
   "execution_count": 10,
   "id": "dc610a4c",
   "metadata": {},
   "outputs": [],
   "source": [
    "# Identify categorical vs numeric\n",
    "cat_cols = X.select_dtypes(include=['object']).columns.tolist()\n",
    "num_cols = X.select_dtypes(include=['int64','float64']).columns.tolist()\n",
    "\n",
    "# Pipelines\n",
    "numeric_transformer = Pipeline(steps=[\n",
    "    ('imputer', SimpleImputer(strategy='median')),\n",
    "    ('scaler', StandardScaler())\n",
    "])\n",
    "categorical_transformer = Pipeline(steps=[\n",
    "    ('imputer', SimpleImputer(strategy='most_frequent')),\n",
    "    ('onehot', OneHotEncoder(handle_unknown='ignore'))\n",
    "])\n",
    "\n",
    "preprocessor = ColumnTransformer(\n",
    "    transformers=[\n",
    "        ('num', numeric_transformer, num_cols),\n",
    "        ('cat', categorical_transformer, cat_cols)\n",
    "    ]\n",
    ")\n",
    "\n",
    "X_train, X_test, y_train, y_test = train_test_split(\n",
    "    X, y, test_size=0.2, random_state=42, stratify=y\n",
    ")"
   ]
  },
  {
   "cell_type": "code",
   "execution_count": 11,
   "id": "c301882a",
   "metadata": {},
   "outputs": [
    {
     "data": {
      "text/plain": [
       "((8000, 25), (2000, 25))"
      ]
     },
     "execution_count": 11,
     "metadata": {},
     "output_type": "execute_result"
    }
   ],
   "source": [
    "X_train.shape, X_test.shape"
   ]
  },
  {
   "cell_type": "code",
   "execution_count": 12,
   "id": "f7eb63a7",
   "metadata": {},
   "outputs": [
    {
     "name": "stdout",
     "output_type": "stream",
     "text": [
      "\n",
      "▶ Training LogisticRegression\n",
      "              precision    recall  f1-score   support\n",
      "\n",
      "           0       0.70      0.52      0.60      1399\n",
      "           1       0.30      0.47      0.36       601\n",
      "\n",
      "    accuracy                           0.51      2000\n",
      "   macro avg       0.50      0.50      0.48      2000\n",
      "weighted avg       0.58      0.51      0.53      2000\n",
      "\n",
      "ROC AUC: 0.4953728536784654\n",
      "\n",
      "▶ Training RandomForest\n"
     ]
    },
    {
     "name": "stderr",
     "output_type": "stream",
     "text": [
      "C:\\Users\\hp\\AppData\\Roaming\\Python\\Python311\\site-packages\\sklearn\\metrics\\_classification.py:1731: UndefinedMetricWarning: Precision is ill-defined and being set to 0.0 in labels with no predicted samples. Use `zero_division` parameter to control this behavior.\n",
      "  _warn_prf(average, modifier, f\"{metric.capitalize()} is\", result.shape[0])\n",
      "C:\\Users\\hp\\AppData\\Roaming\\Python\\Python311\\site-packages\\sklearn\\metrics\\_classification.py:1731: UndefinedMetricWarning: Precision is ill-defined and being set to 0.0 in labels with no predicted samples. Use `zero_division` parameter to control this behavior.\n",
      "  _warn_prf(average, modifier, f\"{metric.capitalize()} is\", result.shape[0])\n",
      "C:\\Users\\hp\\AppData\\Roaming\\Python\\Python311\\site-packages\\sklearn\\metrics\\_classification.py:1731: UndefinedMetricWarning: Precision is ill-defined and being set to 0.0 in labels with no predicted samples. Use `zero_division` parameter to control this behavior.\n",
      "  _warn_prf(average, modifier, f\"{metric.capitalize()} is\", result.shape[0])\n"
     ]
    },
    {
     "name": "stdout",
     "output_type": "stream",
     "text": [
      "              precision    recall  f1-score   support\n",
      "\n",
      "           0       0.70      1.00      0.82      1399\n",
      "           1       0.00      0.00      0.00       601\n",
      "\n",
      "    accuracy                           0.70      2000\n",
      "   macro avg       0.35      0.50      0.41      2000\n",
      "weighted avg       0.49      0.70      0.58      2000\n",
      "\n",
      "ROC AUC: 0.48043111373824177\n",
      "\n",
      "▶ Training XGBoost\n",
      "              precision    recall  f1-score   support\n",
      "\n",
      "           0       0.70      0.87      0.77      1399\n",
      "           1       0.28      0.11      0.16       601\n",
      "\n",
      "    accuracy                           0.64      2000\n",
      "   macro avg       0.49      0.49      0.47      2000\n",
      "weighted avg       0.57      0.64      0.59      2000\n",
      "\n",
      "ROC AUC: 0.49310596230490283\n"
     ]
    }
   ],
   "source": [
    "# Logistic Regression\n",
    "pipe_lr = Pipeline(steps=[('preprocessor', preprocessor),\n",
    "                          ('clf', LogisticRegression(max_iter=1000, class_weight='balanced'))])\n",
    "\n",
    "# Random Forest\n",
    "pipe_rf = Pipeline(steps=[('preprocessor', preprocessor),\n",
    "                          ('clf', RandomForestClassifier(n_estimators=200, class_weight='balanced', random_state=42))])\n",
    "\n",
    "# XGBoost\n",
    "pipe_xgb = Pipeline(steps=[('preprocessor', preprocessor),\n",
    "                           ('clf', XGBClassifier(n_estimators=200, eval_metric='logloss', random_state=42))])\n",
    "\n",
    "models = {\"LogisticRegression\": pipe_lr, \"RandomForest\": pipe_rf, \"XGBoost\": pipe_xgb}\n",
    "results = {}\n",
    "\n",
    "for name, model in models.items():\n",
    "    print(f\"\\n▶ Training {name}\")\n",
    "    model.fit(X_train, y_train)\n",
    "    y_pred = model.predict(X_test)\n",
    "    y_prob = model.predict_proba(X_test)[:,1]\n",
    "\n",
    "    print(classification_report(y_test, y_pred))\n",
    "    print(\"ROC AUC:\", roc_auc_score(y_test, y_prob))\n",
    "\n",
    "    results[name] = (model, roc_auc_score(y_test, y_prob))\n"
   ]
  },
  {
   "cell_type": "code",
   "execution_count": 13,
   "id": "9b1401a8",
   "metadata": {},
   "outputs": [
    {
     "name": "stdout",
     "output_type": "stream",
     "text": [
      "✅ Best model: LogisticRegression\n"
     ]
    },
    {
     "data": {
      "text/plain": [
       "['heart_disease_pipeline.pkl']"
      ]
     },
     "execution_count": 13,
     "metadata": {},
     "output_type": "execute_result"
    }
   ],
   "source": [
    "best_model = max(results.items(), key=lambda x: x[1][1])[0]\n",
    "print(\"✅ Best model:\", best_model)\n",
    "\n",
    "joblib.dump(results[best_model][0], \"heart_disease_pipeline.pkl\")\n"
   ]
  }
 ],
 "metadata": {
  "kernelspec": {
   "display_name": "Python 3",
   "language": "python",
   "name": "python3"
  },
  "language_info": {
   "codemirror_mode": {
    "name": "ipython",
    "version": 3
   },
   "file_extension": ".py",
   "mimetype": "text/x-python",
   "name": "python",
   "nbconvert_exporter": "python",
   "pygments_lexer": "ipython3",
   "version": "3.11.5"
  }
 },
 "nbformat": 4,
 "nbformat_minor": 5
}
